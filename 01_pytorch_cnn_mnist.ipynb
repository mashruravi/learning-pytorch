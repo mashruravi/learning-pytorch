{
  "nbformat": 4,
  "nbformat_minor": 0,
  "metadata": {
    "colab": {
      "name": "01-pytorch-cnn-mnist.ipynb",
      "provenance": [],
      "collapsed_sections": [],
      "authorship_tag": "ABX9TyMkGRZYgBc5J978pkkS2jUv",
      "include_colab_link": true
    },
    "kernelspec": {
      "name": "python3",
      "display_name": "Python 3"
    }
  },
  "cells": [
    {
      "cell_type": "markdown",
      "metadata": {
        "id": "view-in-github",
        "colab_type": "text"
      },
      "source": [
        "<a href=\"https://colab.research.google.com/github/mashruravi/learning-pytorch/blob/master/01_pytorch_cnn_mnist.ipynb\" target=\"_parent\"><img src=\"https://colab.research.google.com/assets/colab-badge.svg\" alt=\"Open In Colab\"/></a>"
      ]
    },
    {
      "cell_type": "markdown",
      "metadata": {
        "id": "HBnvpZsGmKOr",
        "colab_type": "text"
      },
      "source": [
        "# CNN for MNIST hand-written digit classification using Pytorch"
      ]
    },
    {
      "cell_type": "code",
      "metadata": {
        "id": "7JRyJtVTmAu-",
        "colab_type": "code",
        "outputId": "92c2eebb-a156-4219-cd3f-c403df6c74ee",
        "colab": {
          "base_uri": "https://localhost:8080/",
          "height": 34
        }
      },
      "source": [
        "import sys\n",
        "sys.version"
      ],
      "execution_count": 0,
      "outputs": [
        {
          "output_type": "execute_result",
          "data": {
            "text/plain": [
              "'3.6.9 (default, Nov  7 2019, 10:44:02) \\n[GCC 8.3.0]'"
            ]
          },
          "metadata": {
            "tags": []
          },
          "execution_count": 1
        }
      ]
    },
    {
      "cell_type": "code",
      "metadata": {
        "id": "lq7sbO8SmRsW",
        "colab_type": "code",
        "outputId": "83a38cc6-0364-4b23-8389-2caf80c92419",
        "colab": {
          "base_uri": "https://localhost:8080/",
          "height": 51
        }
      },
      "source": [
        "import torch\n",
        "import torch.nn as nn\n",
        "import torch.nn.functional as F\n",
        "\n",
        "import torchvision as tv\n",
        "import torchvision.datasets as ds\n",
        "\n",
        "print(\"torch version:\", torch.__version__)\n",
        "print(\"torchvision version:\", tv.__version__)"
      ],
      "execution_count": 0,
      "outputs": [
        {
          "output_type": "stream",
          "text": [
            "torch version: 1.4.0\n",
            "torchvision version: 0.5.0\n"
          ],
          "name": "stdout"
        }
      ]
    },
    {
      "cell_type": "markdown",
      "metadata": {
        "id": "V7ftTqFamqW-",
        "colab_type": "text"
      },
      "source": [
        "## Download MNIST dataset"
      ]
    },
    {
      "cell_type": "code",
      "metadata": {
        "id": "3ZOVzrgWmdgo",
        "colab_type": "code",
        "colab": {}
      },
      "source": [
        "# Transforms to normalize images\n",
        "transform = tv.transforms.Compose([\n",
        "    tv.transforms.ToTensor(),\n",
        "    tv.transforms.Normalize((0,), (1,))\n",
        "])\n",
        "\n",
        "# Download dataset\n",
        "train_dataset = ds.MNIST(\n",
        "    root='./data',\n",
        "    train=True,\n",
        "    transform=transform,\n",
        "    download=True\n",
        ")\n",
        "\n",
        "test_dataset = ds.MNIST(\n",
        "    root='./data',\n",
        "    train=False,\n",
        "    transform=transform,\n",
        "    download=True\n",
        ")"
      ],
      "execution_count": 0,
      "outputs": []
    },
    {
      "cell_type": "markdown",
      "metadata": {
        "id": "CVUhggsds268",
        "colab_type": "text"
      },
      "source": [
        "## Create Data Loaders"
      ]
    },
    {
      "cell_type": "code",
      "metadata": {
        "id": "7AF4kJEQpMNB",
        "colab_type": "code",
        "colab": {}
      },
      "source": [
        "BS=32\n",
        "\n",
        "train_loader = torch.utils.data.DataLoader(\n",
        "    train_dataset,\n",
        "    batch_size=BS,\n",
        "    shuffle=True\n",
        ")\n",
        "\n",
        "test_loader = torch.utils.data.DataLoader(\n",
        "    test_dataset,\n",
        "    batch_size=BS,\n",
        "    shuffle=False\n",
        ")"
      ],
      "execution_count": 0,
      "outputs": []
    },
    {
      "cell_type": "markdown",
      "metadata": {
        "id": "6YOKc8Pxs1cH",
        "colab_type": "text"
      },
      "source": [
        "## Create Model"
      ]
    },
    {
      "cell_type": "code",
      "metadata": {
        "id": "0-H5TprvrDjx",
        "colab_type": "code",
        "colab": {}
      },
      "source": [
        "class Net(nn.Module):\n",
        "\n",
        "  def __init__(self):\n",
        "    super(Net, self).__init__()\n",
        "    self.conv1 = nn.Conv2d(in_channels=1, out_channels=8, kernel_size=3, padding=1)\n",
        "    self.conv2 = nn.Conv2d(in_channels=8, out_channels=16, kernel_size=3, padding=1)\n",
        "    self.classifier = nn.Linear(16 * 7 * 7, 10)\n",
        "    self.pool = nn.MaxPool2d(2)\n",
        "\n",
        "  def forward(self, x):\n",
        "    x = self.conv1(x)\n",
        "    x = self.pool(F.relu(x))\n",
        "    x = self.pool(F.relu(self.conv2(x)))\n",
        "    x = x.view(-1, 16*7*7)\n",
        "    x = self.classifier(x)\n",
        "    return x\n",
        "\n",
        "model = Net()"
      ],
      "execution_count": 0,
      "outputs": []
    },
    {
      "cell_type": "code",
      "metadata": {
        "id": "egNEMMMAtScb",
        "colab_type": "code",
        "outputId": "3107f332-b3dd-4e4a-99a5-1dcaf11e568a",
        "colab": {
          "base_uri": "https://localhost:8080/",
          "height": 323
        }
      },
      "source": [
        "from torchsummary import summary\n",
        "\n",
        "summary(model, input_size=(1, 28, 28), batch_size=BS)"
      ],
      "execution_count": 97,
      "outputs": [
        {
          "output_type": "stream",
          "text": [
            "----------------------------------------------------------------\n",
            "        Layer (type)               Output Shape         Param #\n",
            "================================================================\n",
            "            Conv2d-1            [32, 8, 28, 28]              80\n",
            "         MaxPool2d-2            [32, 8, 14, 14]               0\n",
            "            Conv2d-3           [32, 16, 14, 14]           1,168\n",
            "         MaxPool2d-4             [32, 16, 7, 7]               0\n",
            "            Linear-5                   [32, 10]           7,850\n",
            "================================================================\n",
            "Total params: 9,098\n",
            "Trainable params: 9,098\n",
            "Non-trainable params: 0\n",
            "----------------------------------------------------------------\n",
            "Input size (MB): 0.10\n",
            "Forward/backward pass size (MB): 2.87\n",
            "Params size (MB): 0.03\n",
            "Estimated Total Size (MB): 3.00\n",
            "----------------------------------------------------------------\n"
          ],
          "name": "stdout"
        }
      ]
    },
    {
      "cell_type": "markdown",
      "metadata": {
        "id": "NVIRo_rqz4gY",
        "colab_type": "text"
      },
      "source": [
        "## Define a loss function and an optimizer"
      ]
    },
    {
      "cell_type": "code",
      "metadata": {
        "id": "Zoitns4ezM7s",
        "colab_type": "code",
        "colab": {}
      },
      "source": [
        "criterion = torch.nn.CrossEntropyLoss()\n",
        "optimizer = torch.optim.SGD(model.parameters(), lr=0.0001, momentum=0.9)"
      ],
      "execution_count": 0,
      "outputs": []
    },
    {
      "cell_type": "markdown",
      "metadata": {
        "id": "eJ184tHS0SQG",
        "colab_type": "text"
      },
      "source": [
        "## Train the network"
      ]
    },
    {
      "cell_type": "code",
      "metadata": {
        "id": "-05IUatQ0RhN",
        "colab_type": "code",
        "colab": {
          "base_uri": "https://localhost:8080/",
          "height": 1000
        },
        "outputId": "17361c2f-43ad-4e3d-a7ac-2bd0946422dc"
      },
      "source": [
        "EPOCHS=10\n",
        "LOG_FREQ=100\n",
        "\n",
        "# Set model in training mode\n",
        "model.train()\n",
        "\n",
        "for epoch in range(EPOCHS):\n",
        "\n",
        "    print(f'Epoch {epoch + 1}')\n",
        "    running_loss = 0\n",
        "\n",
        "    # Loop over each batch\n",
        "    for i, (inputs, labels) in enumerate(train_loader):\n",
        "\n",
        "        # Clear gradients\n",
        "        optimizer.zero_grad()\n",
        "\n",
        "        # Forward pass\n",
        "        outputs = model(inputs)\n",
        "\n",
        "        # Calculate loss\n",
        "        loss = criterion(outputs, labels)\n",
        "\n",
        "        # Backward pass\n",
        "        loss.backward()\n",
        "\n",
        "        # Optimize\n",
        "        optimizer.step()\n",
        "\n",
        "        running_loss += loss.item()\n",
        "\n",
        "        if (i+1) % LOG_FREQ == 0:\n",
        "          print(f'[{epoch+1}, {i+1}] loss: {(running_loss/LOG_FREQ):.3f}')\n",
        "          running_loss = 0"
      ],
      "execution_count": 103,
      "outputs": [
        {
          "output_type": "stream",
          "text": [
            "Epoch 1\n",
            "[1, 100] loss: 2.298\n",
            "[1, 200] loss: 2.296\n",
            "[1, 300] loss: 2.289\n",
            "[1, 400] loss: 2.287\n",
            "[1, 500] loss: 2.285\n",
            "[1, 600] loss: 2.282\n",
            "[1, 700] loss: 2.278\n",
            "[1, 800] loss: 2.271\n",
            "[1, 900] loss: 2.267\n",
            "[1, 1000] loss: 2.262\n",
            "[1, 1100] loss: 2.256\n",
            "[1, 1200] loss: 2.249\n",
            "[1, 1300] loss: 2.241\n",
            "[1, 1400] loss: 2.231\n",
            "[1, 1500] loss: 2.218\n",
            "[1, 1600] loss: 2.206\n",
            "[1, 1700] loss: 2.190\n",
            "[1, 1800] loss: 2.173\n",
            "Epoch 2\n",
            "[2, 100] loss: 2.130\n",
            "[2, 200] loss: 2.096\n",
            "[2, 300] loss: 2.063\n",
            "[2, 400] loss: 2.021\n",
            "[2, 500] loss: 1.966\n",
            "[2, 600] loss: 1.894\n",
            "[2, 700] loss: 1.794\n",
            "[2, 800] loss: 1.691\n",
            "[2, 900] loss: 1.589\n",
            "[2, 1000] loss: 1.456\n",
            "[2, 1100] loss: 1.320\n",
            "[2, 1200] loss: 1.205\n",
            "[2, 1300] loss: 1.092\n",
            "[2, 1400] loss: 1.012\n",
            "[2, 1500] loss: 0.897\n",
            "[2, 1600] loss: 0.837\n",
            "[2, 1700] loss: 0.759\n",
            "[2, 1800] loss: 0.736\n",
            "Epoch 3\n",
            "[3, 100] loss: 0.663\n",
            "[3, 200] loss: 0.673\n",
            "[3, 300] loss: 0.617\n",
            "[3, 400] loss: 0.597\n",
            "[3, 500] loss: 0.582\n",
            "[3, 600] loss: 0.538\n",
            "[3, 700] loss: 0.541\n",
            "[3, 800] loss: 0.537\n",
            "[3, 900] loss: 0.520\n",
            "[3, 1000] loss: 0.513\n",
            "[3, 1100] loss: 0.471\n",
            "[3, 1200] loss: 0.472\n",
            "[3, 1300] loss: 0.481\n",
            "[3, 1400] loss: 0.453\n",
            "[3, 1500] loss: 0.452\n",
            "[3, 1600] loss: 0.432\n",
            "[3, 1700] loss: 0.428\n",
            "[3, 1800] loss: 0.422\n",
            "Epoch 4\n",
            "[4, 100] loss: 0.411\n",
            "[4, 200] loss: 0.396\n",
            "[4, 300] loss: 0.418\n",
            "[4, 400] loss: 0.400\n",
            "[4, 500] loss: 0.387\n",
            "[4, 600] loss: 0.399\n",
            "[4, 700] loss: 0.424\n",
            "[4, 800] loss: 0.398\n",
            "[4, 900] loss: 0.371\n",
            "[4, 1000] loss: 0.380\n",
            "[4, 1100] loss: 0.394\n",
            "[4, 1200] loss: 0.364\n",
            "[4, 1300] loss: 0.391\n",
            "[4, 1400] loss: 0.380\n",
            "[4, 1500] loss: 0.366\n",
            "[4, 1600] loss: 0.347\n",
            "[4, 1700] loss: 0.376\n",
            "[4, 1800] loss: 0.372\n",
            "Epoch 5\n",
            "[5, 100] loss: 0.358\n",
            "[5, 200] loss: 0.342\n",
            "[5, 300] loss: 0.366\n",
            "[5, 400] loss: 0.353\n",
            "[5, 500] loss: 0.363\n",
            "[5, 600] loss: 0.334\n",
            "[5, 700] loss: 0.345\n",
            "[5, 800] loss: 0.319\n",
            "[5, 900] loss: 0.308\n",
            "[5, 1000] loss: 0.329\n",
            "[5, 1100] loss: 0.338\n",
            "[5, 1200] loss: 0.332\n",
            "[5, 1300] loss: 0.330\n",
            "[5, 1400] loss: 0.314\n",
            "[5, 1500] loss: 0.317\n",
            "[5, 1600] loss: 0.331\n",
            "[5, 1700] loss: 0.309\n",
            "[5, 1800] loss: 0.337\n",
            "Epoch 6\n",
            "[6, 100] loss: 0.329\n",
            "[6, 200] loss: 0.274\n",
            "[6, 300] loss: 0.306\n",
            "[6, 400] loss: 0.290\n",
            "[6, 500] loss: 0.288\n",
            "[6, 600] loss: 0.321\n",
            "[6, 700] loss: 0.305\n",
            "[6, 800] loss: 0.315\n",
            "[6, 900] loss: 0.265\n",
            "[6, 1000] loss: 0.304\n",
            "[6, 1100] loss: 0.318\n",
            "[6, 1200] loss: 0.326\n",
            "[6, 1300] loss: 0.316\n",
            "[6, 1400] loss: 0.304\n",
            "[6, 1500] loss: 0.277\n",
            "[6, 1600] loss: 0.302\n",
            "[6, 1700] loss: 0.302\n",
            "[6, 1800] loss: 0.274\n",
            "Epoch 7\n",
            "[7, 100] loss: 0.281\n",
            "[7, 200] loss: 0.289\n",
            "[7, 300] loss: 0.305\n",
            "[7, 400] loss: 0.289\n",
            "[7, 500] loss: 0.300\n",
            "[7, 600] loss: 0.287\n",
            "[7, 700] loss: 0.307\n",
            "[7, 800] loss: 0.280\n",
            "[7, 900] loss: 0.261\n",
            "[7, 1000] loss: 0.258\n",
            "[7, 1100] loss: 0.297\n",
            "[7, 1200] loss: 0.278\n",
            "[7, 1300] loss: 0.256\n",
            "[7, 1400] loss: 0.274\n",
            "[7, 1500] loss: 0.292\n",
            "[7, 1600] loss: 0.268\n",
            "[7, 1700] loss: 0.261\n",
            "[7, 1800] loss: 0.247\n",
            "Epoch 8\n",
            "[8, 100] loss: 0.282\n",
            "[8, 200] loss: 0.270\n",
            "[8, 300] loss: 0.261\n",
            "[8, 400] loss: 0.267\n",
            "[8, 500] loss: 0.264\n",
            "[8, 600] loss: 0.256\n",
            "[8, 700] loss: 0.260\n",
            "[8, 800] loss: 0.262\n",
            "[8, 900] loss: 0.227\n",
            "[8, 1000] loss: 0.254\n",
            "[8, 1100] loss: 0.272\n",
            "[8, 1200] loss: 0.254\n",
            "[8, 1300] loss: 0.287\n",
            "[8, 1400] loss: 0.253\n",
            "[8, 1500] loss: 0.258\n",
            "[8, 1600] loss: 0.246\n",
            "[8, 1700] loss: 0.230\n",
            "[8, 1800] loss: 0.254\n",
            "Epoch 9\n",
            "[9, 100] loss: 0.266\n",
            "[9, 200] loss: 0.242\n",
            "[9, 300] loss: 0.246\n",
            "[9, 400] loss: 0.237\n",
            "[9, 500] loss: 0.269\n",
            "[9, 600] loss: 0.243\n",
            "[9, 700] loss: 0.232\n",
            "[9, 800] loss: 0.264\n",
            "[9, 900] loss: 0.256\n",
            "[9, 1000] loss: 0.234\n",
            "[9, 1100] loss: 0.243\n",
            "[9, 1200] loss: 0.229\n",
            "[9, 1300] loss: 0.221\n",
            "[9, 1400] loss: 0.241\n",
            "[9, 1500] loss: 0.232\n",
            "[9, 1600] loss: 0.214\n",
            "[9, 1700] loss: 0.255\n",
            "[9, 1800] loss: 0.234\n",
            "Epoch 10\n",
            "[10, 100] loss: 0.225\n",
            "[10, 200] loss: 0.246\n",
            "[10, 300] loss: 0.224\n",
            "[10, 400] loss: 0.230\n",
            "[10, 500] loss: 0.243\n",
            "[10, 600] loss: 0.223\n",
            "[10, 700] loss: 0.212\n",
            "[10, 800] loss: 0.216\n",
            "[10, 900] loss: 0.234\n",
            "[10, 1000] loss: 0.250\n",
            "[10, 1100] loss: 0.227\n",
            "[10, 1200] loss: 0.225\n",
            "[10, 1300] loss: 0.216\n",
            "[10, 1400] loss: 0.223\n",
            "[10, 1500] loss: 0.215\n",
            "[10, 1600] loss: 0.230\n",
            "[10, 1700] loss: 0.214\n",
            "[10, 1800] loss: 0.239\n"
          ],
          "name": "stdout"
        }
      ]
    },
    {
      "cell_type": "markdown",
      "metadata": {
        "id": "gDaInIT_6PNt",
        "colab_type": "text"
      },
      "source": [
        "## Check performance on test data"
      ]
    },
    {
      "cell_type": "code",
      "metadata": {
        "id": "aWB-h1753dDB",
        "colab_type": "code",
        "colab": {
          "base_uri": "https://localhost:8080/",
          "height": 34
        },
        "outputId": "aaa4107c-9a9e-41b4-8091-9770e75752ed"
      },
      "source": [
        "correct = 0\n",
        "total = 0\n",
        "\n",
        "for i, (inputs, labels) in enumerate(test_loader):\n",
        "\n",
        "    outputs = model(inputs)\n",
        "    _, predicted = torch.max(outputs.data, 1)\n",
        "\n",
        "    total += labels.size(0)\n",
        "    correct += (predicted == labels).sum().item()\n",
        "\n",
        "print(f'Test accuracy: {100 * correct / total}')"
      ],
      "execution_count": 104,
      "outputs": [
        {
          "output_type": "stream",
          "text": [
            "Test accuracy: 94.15\n"
          ],
          "name": "stdout"
        }
      ]
    }
  ]
}