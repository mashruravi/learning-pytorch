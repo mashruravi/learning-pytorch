{
  "nbformat": 4,
  "nbformat_minor": 0,
  "metadata": {
    "colab": {
      "name": "01-pytorch-cnn-mnist.ipynb",
      "provenance": [],
      "collapsed_sections": [],
      "authorship_tag": "ABX9TyN1PvsDQ/sZCbb6T04SDjL3",
      "include_colab_link": true
    },
    "kernelspec": {
      "name": "python3",
      "display_name": "Python 3"
    }
  },
  "cells": [
    {
      "cell_type": "markdown",
      "metadata": {
        "id": "view-in-github",
        "colab_type": "text"
      },
      "source": [
        "<a href=\"https://colab.research.google.com/github/mashruravi/learning-pytorch/blob/master/01_pytorch_cnn_mnist.ipynb\" target=\"_parent\"><img src=\"https://colab.research.google.com/assets/colab-badge.svg\" alt=\"Open In Colab\"/></a>"
      ]
    },
    {
      "cell_type": "markdown",
      "metadata": {
        "id": "HBnvpZsGmKOr",
        "colab_type": "text"
      },
      "source": [
        "# CNN for MNIST hand-written digit classification using Pytorch"
      ]
    },
    {
      "cell_type": "code",
      "metadata": {
        "id": "7JRyJtVTmAu-",
        "colab_type": "code",
        "outputId": "92c2eebb-a156-4219-cd3f-c403df6c74ee",
        "colab": {
          "base_uri": "https://localhost:8080/",
          "height": 34
        }
      },
      "source": [
        "import sys\n",
        "sys.version"
      ],
      "execution_count": 0,
      "outputs": [
        {
          "output_type": "execute_result",
          "data": {
            "text/plain": [
              "'3.6.9 (default, Nov  7 2019, 10:44:02) \\n[GCC 8.3.0]'"
            ]
          },
          "metadata": {
            "tags": []
          },
          "execution_count": 1
        }
      ]
    },
    {
      "cell_type": "code",
      "metadata": {
        "id": "lq7sbO8SmRsW",
        "colab_type": "code",
        "outputId": "83a38cc6-0364-4b23-8389-2caf80c92419",
        "colab": {
          "base_uri": "https://localhost:8080/",
          "height": 51
        }
      },
      "source": [
        "import torch\n",
        "import torch.nn as nn\n",
        "import torch.nn.functional as F\n",
        "\n",
        "import torchvision as tv\n",
        "import torchvision.datasets as ds\n",
        "\n",
        "print(\"torch version:\", torch.__version__)\n",
        "print(\"torchvision version:\", tv.__version__)"
      ],
      "execution_count": 0,
      "outputs": [
        {
          "output_type": "stream",
          "text": [
            "torch version: 1.4.0\n",
            "torchvision version: 0.5.0\n"
          ],
          "name": "stdout"
        }
      ]
    },
    {
      "cell_type": "markdown",
      "metadata": {
        "id": "V7ftTqFamqW-",
        "colab_type": "text"
      },
      "source": [
        "## Download MNIST dataset"
      ]
    },
    {
      "cell_type": "code",
      "metadata": {
        "id": "3ZOVzrgWmdgo",
        "colab_type": "code",
        "colab": {}
      },
      "source": [
        "# Transforms to normalize images\n",
        "transform = tv.transforms.Compose([\n",
        "    tv.transforms.ToTensor(),\n",
        "    tv.transforms.Normalize((0,), (1,))\n",
        "])\n",
        "\n",
        "# Download dataset\n",
        "train_dataset = ds.MNIST(\n",
        "    root='./data',\n",
        "    train=True,\n",
        "    transform=transform,\n",
        "    download=True\n",
        ")\n",
        "\n",
        "test_dataset = ds.MNIST(\n",
        "    root='./data',\n",
        "    train=False,\n",
        "    transform=transform,\n",
        "    download=True\n",
        ")"
      ],
      "execution_count": 0,
      "outputs": []
    },
    {
      "cell_type": "markdown",
      "metadata": {
        "id": "CVUhggsds268",
        "colab_type": "text"
      },
      "source": [
        "## Create Data Loaders"
      ]
    },
    {
      "cell_type": "code",
      "metadata": {
        "id": "7AF4kJEQpMNB",
        "colab_type": "code",
        "colab": {}
      },
      "source": [
        "BS=32\n",
        "\n",
        "train_loader = torch.utils.data.DataLoader(\n",
        "    train_dataset,\n",
        "    batch_size=BS,\n",
        "    shuffle=True\n",
        ")\n",
        "\n",
        "test_loader = torch.utils.data.DataLoader(\n",
        "    test_dataset,\n",
        "    batch_size=BS,\n",
        "    shuffle=False\n",
        ")"
      ],
      "execution_count": 0,
      "outputs": []
    },
    {
      "cell_type": "markdown",
      "metadata": {
        "id": "6YOKc8Pxs1cH",
        "colab_type": "text"
      },
      "source": [
        "## Create Model"
      ]
    },
    {
      "cell_type": "code",
      "metadata": {
        "id": "0-H5TprvrDjx",
        "colab_type": "code",
        "colab": {}
      },
      "source": [
        "class Net(nn.Module):\n",
        "\n",
        "  def __init__(self):\n",
        "    super(Net, self).__init__()\n",
        "    self.conv1 = nn.Conv2d(in_channels=1, out_channels=8, kernel_size=3, padding=1)\n",
        "    self.conv2 = nn.Conv2d(in_channels=8, out_channels=16, kernel_size=3, padding=1)\n",
        "    self.classifier = nn.Linear(16 * 7 * 7, 10)\n",
        "    self.pool = nn.MaxPool2d(2)\n",
        "\n",
        "  def forward(self, x):\n",
        "    x = self.conv1(x)\n",
        "    x = self.pool(F.relu(x))\n",
        "    x = self.pool(F.relu(self.conv2(x)))\n",
        "    x = x.view(-1, 16*7*7)\n",
        "    x = self.classifier(x)\n",
        "    return x\n",
        "\n",
        "model = Net()"
      ],
      "execution_count": 0,
      "outputs": []
    },
    {
      "cell_type": "code",
      "metadata": {
        "id": "egNEMMMAtScb",
        "colab_type": "code",
        "outputId": "3107f332-b3dd-4e4a-99a5-1dcaf11e568a",
        "colab": {
          "base_uri": "https://localhost:8080/",
          "height": 323
        }
      },
      "source": [
        "from torchsummary import summary\n",
        "\n",
        "summary(model, input_size=(1, 28, 28), batch_size=BS)"
      ],
      "execution_count": 97,
      "outputs": [
        {
          "output_type": "stream",
          "text": [
            "----------------------------------------------------------------\n",
            "        Layer (type)               Output Shape         Param #\n",
            "================================================================\n",
            "            Conv2d-1            [32, 8, 28, 28]              80\n",
            "         MaxPool2d-2            [32, 8, 14, 14]               0\n",
            "            Conv2d-3           [32, 16, 14, 14]           1,168\n",
            "         MaxPool2d-4             [32, 16, 7, 7]               0\n",
            "            Linear-5                   [32, 10]           7,850\n",
            "================================================================\n",
            "Total params: 9,098\n",
            "Trainable params: 9,098\n",
            "Non-trainable params: 0\n",
            "----------------------------------------------------------------\n",
            "Input size (MB): 0.10\n",
            "Forward/backward pass size (MB): 2.87\n",
            "Params size (MB): 0.03\n",
            "Estimated Total Size (MB): 3.00\n",
            "----------------------------------------------------------------\n"
          ],
          "name": "stdout"
        }
      ]
    },
    {
      "cell_type": "markdown",
      "metadata": {
        "id": "NVIRo_rqz4gY",
        "colab_type": "text"
      },
      "source": [
        "## Define a loss function and an optimizer"
      ]
    },
    {
      "cell_type": "code",
      "metadata": {
        "id": "Zoitns4ezM7s",
        "colab_type": "code",
        "colab": {}
      },
      "source": [
        "criterion = torch.nn.CrossEntropyLoss()\n",
        "optimizer = torch.optim.SGD(model.parameters(), lr=0.0001, momentum=0.9)"
      ],
      "execution_count": 0,
      "outputs": []
    },
    {
      "cell_type": "markdown",
      "metadata": {
        "id": "eJ184tHS0SQG",
        "colab_type": "text"
      },
      "source": [
        "## Train the network"
      ]
    },
    {
      "cell_type": "code",
      "metadata": {
        "id": "-05IUatQ0RhN",
        "colab_type": "code",
        "colab": {
          "base_uri": "https://localhost:8080/",
          "height": 663
        },
        "outputId": "ef7464ed-94c4-4ab7-8e75-3468fda34b30"
      },
      "source": [
        "EPOCHS=2\n",
        "LOG_FREQ=100\n",
        "\n",
        "# Set model in training mode\n",
        "model.train()\n",
        "\n",
        "for epoch in range(EPOCHS):\n",
        "\n",
        "    print(f'Epoch {epoch + 1}')\n",
        "    running_loss = 0\n",
        "\n",
        "    # Loop over each batch\n",
        "    for i, (inputs, labels) in enumerate(train_loader):\n",
        "\n",
        "        # Clear gradients\n",
        "        optimizer.zero_grad()\n",
        "\n",
        "        # Forward pass\n",
        "        outputs = model(inputs)\n",
        "\n",
        "        # Calculate loss\n",
        "        loss = criterion(outputs, labels)\n",
        "\n",
        "        # Backward pass\n",
        "        loss.backward()\n",
        "\n",
        "        # Optimize\n",
        "        optimizer.step()\n",
        "\n",
        "        running_loss += loss.item()\n",
        "\n",
        "        if (i+1) % LOG_FREQ == 0:\n",
        "          print(f'[{epoch+1}, {i+1}] loss: {(running_loss/LOG_FREQ):.3f}')\n",
        "          running_loss = 0"
      ],
      "execution_count": 99,
      "outputs": [
        {
          "output_type": "stream",
          "text": [
            "Epoch 1\n",
            "[1, 100] loss: 2.294\n",
            "[1, 200] loss: 2.289\n",
            "[1, 300] loss: 2.282\n",
            "[1, 400] loss: 2.272\n",
            "[1, 500] loss: 2.265\n",
            "[1, 600] loss: 2.251\n",
            "[1, 700] loss: 2.241\n",
            "[1, 800] loss: 2.228\n",
            "[1, 900] loss: 2.210\n",
            "[1, 1000] loss: 2.192\n",
            "[1, 1100] loss: 2.171\n",
            "[1, 1200] loss: 2.147\n",
            "[1, 1300] loss: 2.117\n",
            "[1, 1400] loss: 2.087\n",
            "[1, 1500] loss: 2.034\n",
            "[1, 1600] loss: 1.986\n",
            "[1, 1700] loss: 1.925\n",
            "[1, 1800] loss: 1.839\n",
            "Epoch 2\n",
            "[2, 100] loss: 1.672\n",
            "[2, 200] loss: 1.546\n",
            "[2, 300] loss: 1.417\n",
            "[2, 400] loss: 1.277\n",
            "[2, 500] loss: 1.157\n",
            "[2, 600] loss: 1.070\n",
            "[2, 700] loss: 0.987\n",
            "[2, 800] loss: 0.891\n",
            "[2, 900] loss: 0.823\n",
            "[2, 1000] loss: 0.766\n",
            "[2, 1100] loss: 0.721\n",
            "[2, 1200] loss: 0.707\n",
            "[2, 1300] loss: 0.655\n",
            "[2, 1400] loss: 0.662\n",
            "[2, 1500] loss: 0.619\n",
            "[2, 1600] loss: 0.606\n",
            "[2, 1700] loss: 0.564\n",
            "[2, 1800] loss: 0.567\n"
          ],
          "name": "stdout"
        }
      ]
    },
    {
      "cell_type": "markdown",
      "metadata": {
        "id": "gDaInIT_6PNt",
        "colab_type": "text"
      },
      "source": [
        "## Check performance on test data"
      ]
    },
    {
      "cell_type": "code",
      "metadata": {
        "id": "aWB-h1753dDB",
        "colab_type": "code",
        "colab": {
          "base_uri": "https://localhost:8080/",
          "height": 34
        },
        "outputId": "bdc44781-d6fd-425d-c314-7d8614714c4e"
      },
      "source": [
        "correct = 0\n",
        "total = 0\n",
        "\n",
        "for i, (inputs, labels) in enumerate(test_loader):\n",
        "\n",
        "    outputs = model(inputs)\n",
        "    _, predicted = torch.max(outputs.data, 1)\n",
        "\n",
        "    total += labels.size(0)\n",
        "    correct += (predicted == labels).sum().item()\n",
        "\n",
        "print(f'Test accuracy: {100 * correct / total}')"
      ],
      "execution_count": 100,
      "outputs": [
        {
          "output_type": "stream",
          "text": [
            "Test accuracy: 85.99\n"
          ],
          "name": "stdout"
        }
      ]
    }
  ]
}